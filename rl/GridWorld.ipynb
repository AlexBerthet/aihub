{
 "cells": [
  {
   "cell_type": "markdown",
   "metadata": {},
   "source": [
    "## Install the environement"
   ]
  },
  {
   "cell_type": "code",
   "execution_count": null,
   "metadata": {},
   "outputs": [],
   "source": [
    "# $> git clone https://github.com/maximecb/gym-minigrid.git\n",
    "# $> pip3 install -e gym-minigrid\n",
    "# $> pip instal gym"
   ]
  },
  {
   "cell_type": "markdown",
   "metadata": {},
   "source": [
    "## Import libs and usefull methods"
   ]
  },
  {
   "cell_type": "code",
   "execution_count": 2,
   "metadata": {},
   "outputs": [],
   "source": [
    "import gym\n",
    "import gym_minigrid\n",
    "\n",
    "import time\n",
    "import numpy as np\n",
    "\n",
    "from q_learning import state_to_key, update_Q, create_state_if_not_exist"
   ]
  },
  {
   "cell_type": "markdown",
   "metadata": {},
   "source": [
    "## Demonstration of the environement"
   ]
  },
  {
   "cell_type": "code",
   "execution_count": 3,
   "metadata": {},
   "outputs": [],
   "source": [
    "Q = {}\n",
    "env = gym.make(\"MiniGrid-Empty-6x6-v0\")\n",
    "\n",
    "for epoch in range(100):\n",
    "    s = env.reset()\n",
    "    s = state_to_key(s)\n",
    "    done = False\n",
    "\n",
    "    while not done:\n",
    "        create_state_if_not_exist(Q, s)\n",
    "        sp, r, done, info = env.step(np.random.randint(0, 4))\n",
    "        sp = state_to_key(sp)\n",
    "        s = sp\n",
    "        env.render()"
   ]
  },
  {
   "cell_type": "code",
   "execution_count": 7,
   "metadata": {},
   "outputs": [
    {
     "name": "stdout",
     "output_type": "stream",
     "text": [
      "60\n",
      "[0. 0. 0. 0.]\n",
      "[0. 0. 0. 0.]\n",
      "[0. 0. 0. 0.]\n",
      "[0. 0. 0. 0.]\n",
      "[0. 0. 0. 0.]\n",
      "[0. 0. 0. 0.]\n",
      "[0. 0. 0. 0.]\n",
      "[0. 0. 0. 0.]\n",
      "[0. 0. 0. 0.]\n",
      "[0. 0. 0. 0.]\n",
      "[0. 0. 0. 0.]\n",
      "[0. 0. 0. 0.]\n",
      "[0. 0. 0. 0.]\n",
      "[0. 0. 0. 0.]\n",
      "[0. 0. 0. 0.]\n",
      "[0. 0. 0. 0.]\n",
      "[0. 0. 0. 0.]\n",
      "[0. 0. 0. 0.]\n",
      "[0. 0. 0. 0.]\n",
      "[0. 0. 0. 0.]\n",
      "[0. 0. 0. 0.]\n",
      "[0. 0. 0. 0.]\n",
      "[0. 0. 0. 0.]\n",
      "[0. 0. 0. 0.]\n",
      "[0. 0. 0. 0.]\n",
      "[0. 0. 0. 0.]\n",
      "[0. 0. 0. 0.]\n",
      "[0. 0. 0. 0.]\n",
      "[0. 0. 0. 0.]\n",
      "[0. 0. 0. 0.]\n",
      "[0. 0. 0. 0.]\n",
      "[0. 0. 0. 0.]\n",
      "[0. 0. 0. 0.]\n",
      "[0. 0. 0. 0.]\n",
      "[0. 0. 0. 0.]\n",
      "[0. 0. 0. 0.]\n",
      "[0. 0. 0. 0.]\n",
      "[0. 0. 0. 0.]\n",
      "[0. 0. 0. 0.]\n",
      "[0. 0. 0. 0.]\n",
      "[0. 0. 0. 0.]\n",
      "[0. 0. 0. 0.]\n",
      "[0. 0. 0. 0.]\n",
      "[0. 0. 0. 0.]\n",
      "[0. 0. 0. 0.]\n",
      "[0. 0. 0. 0.]\n",
      "[0. 0. 0. 0.]\n",
      "[0. 0. 0. 0.]\n",
      "[0. 0. 0. 0.]\n",
      "[0. 0. 0. 0.]\n",
      "[0. 0. 0. 0.]\n",
      "[0. 0. 0. 0.]\n",
      "[0. 0. 0. 0.]\n",
      "[0. 0. 0. 0.]\n",
      "[0. 0. 0. 0.]\n",
      "[0. 0. 0. 0.]\n",
      "[0. 0. 0. 0.]\n",
      "[0. 0. 0. 0.]\n",
      "[0. 0. 0. 0.]\n",
      "[0. 0. 0. 0.]\n"
     ]
    }
   ],
   "source": [
    "print(len(Q))\n",
    "for state in Q:\n",
    "    print(Q[state])"
   ]
  },
  {
   "cell_type": "markdown",
   "metadata": {},
   "source": [
    "# Methods you can use"
   ]
  },
  {
   "cell_type": "code",
   "execution_count": 11,
   "metadata": {},
   "outputs": [
    {
     "name": "stdout",
     "output_type": "stream",
     "text": [
      "<class 'dict'>\n",
      "<class 'str'>\n",
      "Actions for state s [0. 0. 0. 0.]\n"
     ]
    }
   ],
   "source": [
    "Q = {}\n",
    "env = gym.make(\"MiniGrid-Empty-6x6-v0\")\n",
    "s = env.reset()\n",
    "print(type(s))\n",
    "s = state_to_key(s)\n",
    "print(type(s))\n",
    "# Create the state in the Q table if this state doesn't exist yet\n",
    "create_state_if_not_exist(Q, s)\n",
    "print(\"Actions for state s\", Q[s])\n",
    "\n",
    "# This method can be used to update the Q Table\n",
    "update_Q(Q=Q, s=s, sp=s, a=0, r=0, done=False)"
   ]
  },
  {
   "cell_type": "markdown",
   "metadata": {},
   "source": [
    "## Train the agent"
   ]
  },
  {
   "cell_type": "code",
   "execution_count": 14,
   "metadata": {},
   "outputs": [
    {
     "name": "stdout",
     "output_type": "stream",
     "text": [
      "\r",
      " epoch= 0\n",
      "\r",
      " epoch= 1\n"
     ]
    }
   ],
   "source": [
    "Q = {}\n",
    "env = gym.make(\"MiniGrid-Empty-6x6-v0\")\n",
    "\n",
    "epochs_nb = 2\n",
    "for epoch in range(epochs_nb):\n",
    "    s = env.reset()\n",
    "    s = state_to_key(s)\n",
    "    done = False\n",
    "\n",
    "    print(\"\\r epoch=\", epoch)\n",
    "    \n",
    "    while not done:\n",
    "        create_state_if_not_exist(Q, s)\n",
    "        # TODO\n",
    "        # Take an action here with epsilon greedy instead of randint\n",
    "        sp, r, done, info = env.step(np.random.randint(0, 4))\n",
    "        sp = state_to_key(sp)\n",
    "        # TODO\n",
    "        # Call the update method\n",
    "        s = sp"
   ]
  },
  {
   "cell_type": "markdown",
   "metadata": {},
   "source": [
    "## Check the result"
   ]
  },
  {
   "cell_type": "code",
   "execution_count": 15,
   "metadata": {},
   "outputs": [],
   "source": [
    "s = env.reset()\n",
    "s = state_to_key(s)\n",
    "done = False\n",
    "\n",
    "while not done:\n",
    "    create_state_if_not_exist(Q, s)\n",
    "    sp, r, done, info = env.step(np.random.randint(0, 4))\n",
    "    sp = state_to_key(sp)\n",
    "    s = sp\n",
    "    env.render()"
   ]
  }
 ],
 "metadata": {
  "kernelspec": {
   "display_name": "Python 3",
   "language": "python",
   "name": "python3"
  },
  "language_info": {
   "codemirror_mode": {
    "name": "ipython",
    "version": 3
   },
   "file_extension": ".py",
   "mimetype": "text/x-python",
   "name": "python",
   "nbconvert_exporter": "python",
   "pygments_lexer": "ipython3",
   "version": "3.6.7"
  }
 },
 "nbformat": 4,
 "nbformat_minor": 2
}
