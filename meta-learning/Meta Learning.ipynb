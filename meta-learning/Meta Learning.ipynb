{
 "cells": [
  {
   "cell_type": "markdown",
   "metadata": {},
   "source": [
    "## Classification Demo"
   ]
  },
  {
   "cell_type": "code",
   "execution_count": 1,
   "metadata": {},
   "outputs": [],
   "source": [
    "import numpy as np\n",
    "import matplotlib.pyplot as plt\n",
    "from scipy.spatial.distance import cdist\n",
    "import copy\n",
    "import sys\n",
    "import os\n",
    "\n",
    "DATASET = \"/home/thibault/work/datasets/omniglot/python/\""
   ]
  },
  {
   "cell_type": "markdown",
   "metadata": {},
   "source": [
    "## One-shot classification demo with Modified Hausdorff Distance"
   ]
  },
  {
   "cell_type": "markdown",
   "metadata": {},
   "source": [
    "Running this demo should lead to a result of 38.8 percent errors. M.-P. Dubuisson, A. K. Jain (1994). A modified hausdorff distance for object matching. International Conference on Pattern Recognition, pp. 566-568. ** Models should be trained on images in 'images_background' directory to avoid using images and alphabets used in the one-shot evaluation **"
   ]
  },
  {
   "cell_type": "code",
   "execution_count": 2,
   "metadata": {},
   "outputs": [],
   "source": [
    "def mod_hausdorff_distance(itemA, itemB):\n",
    "    \"\"\"\n",
    "     Modified Hausdorff Distance\n",
    "\n",
    "     Input:\n",
    "            itemA : [n x 2] coordinates of \"inked\" pixels\n",
    "            itemB : [m x 2] coordinates of \"inked\" pixels\n",
    "            M.-P. Dubuisson, A. K. Jain (1994). A modified hausdorff distance for object matching.\n",
    "            International Conference on Pattern Recognition, pp. 566-568.\n",
    "    \"\"\"\n",
    "    D = cdist(itemA,itemB)\n",
    "    mindist_A = D.min(axis=1)\n",
    "    mindist_B = D.min(axis=0)\n",
    "    mean_A = np.mean(mindist_A)\n",
    "    mean_B = np.mean(mindist_B)\n",
    "    return max(mean_A,mean_B)"
   ]
  },
  {
   "cell_type": "code",
   "execution_count": 23,
   "metadata": {},
   "outputs": [
    {
     "data": {
      "image/png": "[encoded data removed]",
      "text/plain": [
       "<Figure size 432x288 with 1 Axes>"
      ]
     },
     "metadata": {},
     "output_type": "display_data"
    },
    {
     "data": {
      "image/png": "[encoded data removed]",
      "text/plain": [
       "<Figure size 432x288 with 1 Axes>"
      ]
     },
     "metadata": {},
     "output_type": "display_data"
    },
    {
     "name": "stdout",
     "output_type": "stream",
     "text": [
      "Distance 0.0\n",
      "Distance 1.9464946780762098\n"
     ]
    }
   ],
   "source": [
    "def load_img_as_points(fn, show=False, inked=False): \n",
    "    \"\"\"\n",
    "    Load image file and return coordinates of 'inked' pixels in the binary image \n",
    "        Output:\n",
    "            D : [n x 2] rows are coordinates\n",
    "    \"\"\"\n",
    "    I = plt.imread(fn)\n",
    "    I = np.array(I,dtype=bool)\n",
    "\n",
    "    if inked:\n",
    "        I = np.logical_not(I)\n",
    "        (row,col) = I.nonzero()\n",
    "        I = I[row.min():row.max(),col.min():col.max()]\n",
    "        I = np.logical_not(I)\n",
    "\n",
    "    if show:\n",
    "        plt.imshow(I, cmap=\"gray\")\n",
    "        plt.show()\n",
    "\n",
    "    return I\n",
    "\n",
    "\n",
    "def test_load_img_as_points():\n",
    "    img1 = load_img_as_points(os.path.join(DATASET, \"one-shot-classification/run01/training/class01.png\"))\n",
    "    plt.imshow(img1, cmap=\"gray\")\n",
    "    plt.show()\n",
    "    \n",
    "    img2 = load_img_as_points(os.path.join(DATASET, \"one-shot-classification/run01/training/class02.png\"))\n",
    "    plt.imshow(img2, cmap=\"gray\")\n",
    "    plt.show()    \n",
    "    \n",
    "    print(\"Distance\", mod_hausdorff_distance(img1, img1))\n",
    "    print(\"Distance\", mod_hausdorff_distance(img1, img2))\n",
    "\n",
    "test_load_img_as_points()"
   ]
  },
  {
   "cell_type": "code",
   "execution_count": 52,
   "metadata": {},
   "outputs": [],
   "source": [
    "def classification_run(folder,f_load,f_cost,ftype='cost'):\n",
    "    # Compute error rate for one run of one-shot classification\n",
    "    #\n",
    "    # Input\n",
    "    #  folder : contains images for a run of one-shot classification\n",
    "    #  f_load : itemA = f_load('file.png') should read in the image file and process it\n",
    "    #  f_cost : f_cost(itemA,itemB) should compute similarity between two images, using output of f_load\n",
    "    #  ftype  : 'cost' if small values from f_cost mean more similar, or 'score' if large values are more similar\n",
    "    #\n",
    "    # Output\n",
    "    #  perror : percent errors (0 to 100% error)\n",
    "    #\n",
    "    fname_label = 'class_labels.txt' # where class labels are stored for each run\n",
    "    assert ((ftype=='cost') | (ftype=='score'))\n",
    "\n",
    "    base_folder = os.path.join(DATASET, \"one-shot-classification\")\n",
    "    sub_folder = os.path.join(base_folder, folder)\n",
    "    \n",
    "    # get file names\n",
    "    with open(os.path.join(sub_folder, fname_label), \"r\") as f:\n",
    "        content = f.read().splitlines()\n",
    "    \n",
    "    pairs = [line.split() for line in content]\n",
    "    test_files  = [os.path.join(base_folder, pair[0]) for pair in pairs]\n",
    "    train_files = [os.path.join(base_folder, pair[1]) for pair in pairs]\n",
    "    answers_files = copy.copy(train_files)\n",
    "    test_files.sort()\n",
    "    train_files.sort()\n",
    "    ntrain = len(train_files)\n",
    "    ntest = len(test_files)\n",
    "    \n",
    "    # load the images (and, if needed, extract features)\n",
    "    train_items = [f_load(f) for f in train_files]\n",
    "    test_items  = [f_load(f) for f in test_files ]\n",
    "\n",
    "    # compute cost matrix\n",
    "    costM = np.zeros((ntest,ntrain),float)\n",
    "    for i in range(ntest):\n",
    "        for c in range(ntrain):\n",
    "            costM[i,c] = f_cost(test_items[i],train_items[c])\n",
    "\n",
    "    if ftype == 'cost':\n",
    "        YHAT = np.argmin(costM,axis=1)\n",
    "    elif ftype == 'score':\n",
    "        YHAT = np.argmax(costM,axis=1)\n",
    "    else:\n",
    "        assert False\n",
    "        \n",
    "    # compute the error rate\n",
    "    correct = 0.0\n",
    "    for i in range(ntest):\n",
    "        if train_files[YHAT[i]] == answers_files[i]:\n",
    "            correct += 1.0\n",
    "    pcorrect = 100 * correct / ntest\n",
    "    perror = 100 - pcorrect\n",
    "\n",
    "    return perror"
   ]
  },
  {
   "cell_type": "markdown",
   "metadata": {},
   "source": [
    "##  Percentage of error with a simple dist"
   ]
  },
  {
   "cell_type": "code",
   "execution_count": 57,
   "metadata": {},
   "outputs": [
    {
     "name": "stdout",
     "output_type": "stream",
     "text": [
      "Percentage of error 81.25\n"
     ]
    }
   ],
   "source": [
    "def run_one_shot_classificaion_with_hausdorff_distance():\n",
    "    nrun = 20 # number of classification runs\n",
    "    fname_label = 'class_labels.txt' # where class labels are stored for each run\n",
    "    \n",
    "    perror = np.zeros(nrun)\n",
    "    for r in range(1, nrun+1):\n",
    "        # Add 0 for number from 0 to 9 (2 -> 02)\n",
    "        rs = '0' + str(r) if len(str(r)) == 1 else str(r)\n",
    "        perror[r-1] = classification_run('run'+rs, load_img_as_points, mod_hausdorff_distance, 'cost')\n",
    "    \n",
    "    print(\"Percentage of error\", np.mean(perror))\n",
    "\n",
    "run_one_shot_classificaion_with_hausdorff_distance()"
   ]
  }
 ],
 "metadata": {
  "kernelspec": {
   "display_name": "Python 3",
   "language": "python",
   "name": "python3"
  },
  "language_info": {
   "codemirror_mode": {
    "name": "ipython",
    "version": 3
   },
   "file_extension": ".py",
   "mimetype": "text/x-python",
   "name": "python",
   "nbconvert_exporter": "python",
   "pygments_lexer": "ipython3",
   "version": "3.5.2"
  }
 },
 "nbformat": 4,
 "nbformat_minor": 2
}
